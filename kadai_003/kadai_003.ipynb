{
  "nbformat": 4,
  "nbformat_minor": 0,
  "metadata": {
    "colab": {
      "provenance": [],
      "authorship_tag": "ABX9TyOks5T/7OWWrcs9lmBtNAC/",
      "include_colab_link": true
    },
    "kernelspec": {
      "name": "python3",
      "display_name": "Python 3"
    },
    "language_info": {
      "name": "python"
    }
  },
  "cells": [
    {
      "cell_type": "markdown",
      "metadata": {
        "id": "view-in-github",
        "colab_type": "text"
      },
      "source": [
        "<a href=\"https://colab.research.google.com/github/kaoki0417/data-analysis-basic-kadai/blob/main/kadai_003/kadai_003.ipynb\" target=\"_parent\"><img src=\"https://colab.research.google.com/assets/colab-badge.svg\" alt=\"Open In Colab\"/></a>"
      ]
    },
    {
      "cell_type": "code",
      "execution_count": 1,
      "metadata": {
        "id": "Et9smMeW-Qrk"
      },
      "outputs": [],
      "source": [
        "import numpy as np"
      ]
    },
    {
      "cell_type": "code",
      "source": [
        "A = np.array([[0, 1], [2, 3], [4, 5]])\n",
        "B = np.array([[0, 1, 2, 3], [4, 5, 6, 7]])\n",
        "\n",
        "dot = np.dot(A, B)\n",
        "\n",
        "print(dot)\n",
        "print(dot.max())"
      ],
      "metadata": {
        "colab": {
          "base_uri": "https://localhost:8080/"
        },
        "id": "3FUUXjMT-bMg",
        "outputId": "cada6411-c77b-489f-ee75-ac6ebe0d32a8"
      },
      "execution_count": 10,
      "outputs": [
        {
          "output_type": "stream",
          "name": "stdout",
          "text": [
            "[[ 4  5  6  7]\n",
            " [12 17 22 27]\n",
            " [20 29 38 47]]\n",
            "47\n"
          ]
        }
      ]
    },
    {
      "cell_type": "code",
      "source": [],
      "metadata": {
        "id": "pERzHDUuBVXq"
      },
      "execution_count": null,
      "outputs": []
    }
  ]
}